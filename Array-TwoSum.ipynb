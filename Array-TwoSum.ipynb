{
 "cells": [
  {
   "cell_type": "markdown",
   "metadata": {},
   "source": [
    "Given an array of integers nums and an integer target, return indices of the two numbers such that they add up to target.\n",
    "\n",
    "You may assume that each input would have exactly one solution, and you may not use the same element twice.\n",
    "\n",
    "You can return the answer in any order."
   ]
  },
  {
   "cell_type": "markdown",
   "metadata": {},
   "source": [
    "##### Example 1:\n",
    "\n",
    "Input: nums = [2,7,11,15], target = 9 <br>\n",
    "Output: [0,1] <br>\n",
    "Explanation: Because nums[0] + nums[1] == 9, we return [0, 1]."
   ]
  },
  {
   "cell_type": "markdown",
   "metadata": {},
   "source": [
    "##### Example 2:\n",
    "\n",
    "Input: nums = [3,2,4], target = 6 <br>\n",
    "Output: [1,2]"
   ]
  },
  {
   "cell_type": "markdown",
   "metadata": {},
   "source": [
    "##### Example 3:\n",
    "\n",
    "Input: nums = [3,3], target = 6 <br>\n",
    "Output: [0,1] "
   ]
  },
  {
   "cell_type": "markdown",
   "metadata": {},
   "source": [
    "##### Solution: 1st Approach - Brute force method   (Time complexity : O(n^2), Space : o(1) )"
   ]
  },
  {
   "cell_type": "code",
   "execution_count": 9,
   "metadata": {},
   "outputs": [
    {
     "name": "stdout",
     "output_type": "stream",
     "text": [
      "[0, 1]\n",
      "[1, 2]\n",
      "[0, 1]\n"
     ]
    }
   ],
   "source": [
    "def twoSum(num:list[int],target:int) -> list[int]: \n",
    "    for i in range(len(num)):\n",
    "        for j in range(i+1, len(num)):\n",
    "            x = num[i]\n",
    "            if num[j]==target-x:\n",
    "                return [i,j]\n",
    "                break\n",
    "\n",
    "# Testing:\n",
    "\n",
    "num = [2,7,11,15]\n",
    "target = 9\n",
    "indexList = twoSum(num,target)\n",
    "print(indexList)\n",
    "\n",
    "\n",
    "num = [3,2,4]\n",
    "target = 6\n",
    "indexList = twoSum(num,target)\n",
    "print(indexList)\n",
    "\n",
    "num = [3,3]\n",
    "target = 6\n",
    "indexList = twoSum(num,target)\n",
    "print(indexList)"
   ]
  },
  {
   "cell_type": "markdown",
   "metadata": {},
   "source": [
    "##### Solution: 2nd Approach - Optimized"
   ]
  },
  {
   "cell_type": "markdown",
   "metadata": {},
   "source": [
    "HashMap or Dictionary Approach <br><br>\n",
    "Time Complexity: O(n). <br>\n",
    "As the whole array is needed to be traversed only once.<br><br>\n",
    "Auxiliary Space: O(n). <br>\n",
    "A hash map has been used to store array elements."
   ]
  },
  {
   "cell_type": "code",
   "execution_count": 16,
   "metadata": {},
   "outputs": [
    {
     "name": "stdout",
     "output_type": "stream",
     "text": [
      "0 1\n",
      "1 2\n",
      "0 1\n"
     ]
    }
   ],
   "source": [
    "def twoSum(inputArray,targetSum):\n",
    "    #create dictionary to insert the data \n",
    "    hashMap = {}\n",
    "    \n",
    "    for i in range(0,len(inputArray)):\n",
    "        temp = targetSum - inputArray[i]\n",
    "        if temp in hashMap:\n",
    "            print(hashMap[temp],i)\n",
    "        hashMap[inputArray[i]] = i\n",
    "\n",
    "num = [2,7,11,15]\n",
    "target = 9\n",
    "twoSum(num,target)\n",
    "\n",
    "num = [3,2,4]\n",
    "target = 6\n",
    "twoSum(num,target)\n",
    "\n",
    "num = [3,3]\n",
    "target = 6\n",
    "twoSum(num,target)\n",
    "\n"
   ]
  },
  {
   "cell_type": "code",
   "execution_count": 12,
   "metadata": {},
   "outputs": [],
   "source": [
    "\n",
    "# Test to check how in works for dict\n",
    "hashmap = {1:'a',2:'b',3:'c'}\n",
    "type(hashmap)\n",
    "\n",
    "if 'd' in hashmap.values():\n",
    "    print('contains')\n"
   ]
  }
 ],
 "metadata": {
  "kernelspec": {
   "display_name": "Python 3.10.5 64-bit",
   "language": "python",
   "name": "python3"
  },
  "language_info": {
   "codemirror_mode": {
    "name": "ipython",
    "version": 3
   },
   "file_extension": ".py",
   "mimetype": "text/x-python",
   "name": "python",
   "nbconvert_exporter": "python",
   "pygments_lexer": "ipython3",
   "version": "3.10.5"
  },
  "orig_nbformat": 4,
  "vscode": {
   "interpreter": {
    "hash": "c50a1b0ddfdf332e658825baa5124035e616bac75d08306451759a82841ff019"
   }
  }
 },
 "nbformat": 4,
 "nbformat_minor": 2
}
