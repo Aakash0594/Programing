{
 "cells": [
  {
   "cell_type": "markdown",
   "metadata": {},
   "source": [
    "Problem Description\n",
    "\n",
    "Given a sentence represented as an array A of strings that contains all lowercase alphabets.\n",
    "Chech if it is a pangram or not.\n",
    "A pangram is a unique sentence in which every letter of the lowercase alphabet is used at least once."
   ]
  },
  {
   "cell_type": "markdown",
   "metadata": {},
   "source": [
    "Input 1: <br>\n",
    "A = [\"the\", \"quick\", \"brown\", \"fox\", \"jumps\", \"over\", \"the\", \"lazy\", \"dog\"] <br><br>\n",
    "Input 2: <br>\n",
    "A = [\"interviewbit\", \"scaler\"]"
   ]
  },
  {
   "cell_type": "markdown",
   "metadata": {},
   "source": [
    "Output 1:<br>\n",
    "1 <br><br>\n",
    "Output 2:<br>\n",
    "0"
   ]
  },
  {
   "cell_type": "code",
   "execution_count": null,
   "metadata": {},
   "outputs": [],
   "source": [
    "from string import ascii_lowercase\n",
    "\n",
    "class Solution:\n",
    "    # @param A : list of strings\n",
    "    # @return an integer\n",
    "    def solve(self, A):\n",
    "        dict = {}\n",
    "        for k in ascii_lowercase:\n",
    "            dict[k] = 0\n",
    "        for word in A:\n",
    "            for alphabet in word:\n",
    "                dict[alphabet] = 1\n",
    "        for value in dict.values():\n",
    "            if value == 0:\n",
    "                return 0\n",
    "        return 1\n",
    "\n",
    "\n",
    "A = [\"the\", \"quick\", \"brown\", \"fox\", \"jumps\", \"over\", \"the\", \"lazy\", \"dog\"]\n",
    "# A = [\"interviewbit\", \"scaler\"]\n",
    "value = Solution.solve('Aakash',A)\n",
    "print(value)\n"
   ]
  }
 ],
 "metadata": {
  "kernelspec": {
   "display_name": "Python 3.10.5 64-bit",
   "language": "python",
   "name": "python3"
  },
  "language_info": {
   "name": "python",
   "version": "3.10.5"
  },
  "orig_nbformat": 4,
  "vscode": {
   "interpreter": {
    "hash": "c50a1b0ddfdf332e658825baa5124035e616bac75d08306451759a82841ff019"
   }
  }
 },
 "nbformat": 4,
 "nbformat_minor": 2
}
